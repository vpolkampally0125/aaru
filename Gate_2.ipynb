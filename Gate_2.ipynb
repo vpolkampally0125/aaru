{
  "nbformat": 4,
  "nbformat_minor": 0,
  "metadata": {
    "colab": {
      "provenance": [],
      "authorship_tag": "ABX9TyN8GZiNUXH04NJlb854n2RF",
      "include_colab_link": true
    },
    "kernelspec": {
      "name": "python3",
      "display_name": "Python 3"
    },
    "language_info": {
      "name": "python"
    }
  },
  "cells": [
    {
      "cell_type": "markdown",
      "metadata": {
        "id": "view-in-github",
        "colab_type": "text"
      },
      "source": [
        "<a href=\"https://colab.research.google.com/github/vpolkampally0125/aaru/blob/main/Gate_2.ipynb\" target=\"_parent\"><img src=\"https://colab.research.google.com/assets/colab-badge.svg\" alt=\"Open In Colab\"/></a>"
      ]
    },
    {
      "cell_type": "code",
      "execution_count": 2,
      "metadata": {
        "id": "bbBHJOBHNh3n"
      },
      "outputs": [],
      "source": [
        "import numpy as np"
      ]
    },
    {
      "cell_type": "code",
      "source": [
        "def predict(X: np.ndarray, w: np.ndarray) -> np.ndarray:\n",
        "  return X @ w"
      ],
      "metadata": {
        "id": "lebF8ksZNoo0"
      },
      "execution_count": 18,
      "outputs": []
    },
    {
      "cell_type": "code",
      "source": [
        "def mse(y_true: np.ndarray, y_pred: np.ndarray) -> float:\n",
        "    \"\"\"\n",
        "    Mean Squared Error: (1/n) * sum((y - ŷ)^2)\n",
        "    \"\"\"\n",
        "    diff = y_true - y_pred\n",
        "    return np.mean(diff ** 2)"
      ],
      "metadata": {
        "id": "_0brIFzIPNmc"
      },
      "execution_count": 14,
      "outputs": []
    },
    {
      "cell_type": "code",
      "source": [
        "def cosine_similarity(a: np.ndarray, b: np.ndarray) -> float:\n",
        "    \"\"\"\n",
        "    Cosine similarity = (a·b) / (||a|| * ||b||)\n",
        "    \"\"\"\n",
        "    dot = np.dot(a, b)\n",
        "    norm_a = np.linalg.norm(a)\n",
        "    norm_b = np.linalg.norm(b)\n",
        "    if norm_a == 0 or norm_b == 0:\n",
        "        return 0.0   # safe guard if vectors are zero\n",
        "    return dot / (norm_a * norm_b)"
      ],
      "metadata": {
        "id": "inM1R8IoU74q"
      },
      "execution_count": 15,
      "outputs": []
    },
    {
      "cell_type": "code",
      "source": [
        "X = np.array([\n",
        "    [1.0,  2.0],\n",
        "    [0.0, -1.0],\n",
        "    [3.0,  0.5],\n",
        "    [2.0,  2.0]\n",
        "])\n",
        "\n",
        "# True weights\n",
        "w = np.array([0.5, -1.0])   # w[0]=0.5, w[1]=-1\n",
        "\n",
        "# Ground-truth targets with a tiny noise term so MSE can be measured\n",
        "noise = np.array([0.10, -0.20, 0.05, 0.00])\n",
        "y_true = X @ w + noise\n",
        "print(y_true)"
      ],
      "metadata": {
        "colab": {
          "base_uri": "https://localhost:8080/"
        },
        "id": "rSyA-ec3a-J2",
        "outputId": "2014532a-dd54-46ba-e529-3c5f01f1d1c0"
      },
      "execution_count": 16,
      "outputs": [
        {
          "output_type": "stream",
          "name": "stdout",
          "text": [
            "[-1.4   0.8   1.05 -1.  ]\n"
          ]
        }
      ]
    },
    {
      "cell_type": "code",
      "source": [
        "# Tests checking mean square error (magintude of vectors) and cosine similarity (direction)\n",
        "y_pred = predict(X, w)\n",
        "mse_val = mse(y_true, y_pred)\n",
        "cos_val = cosine_similarity(y_true, y_pred)\n",
        "\n",
        "print(y_pred)\n",
        "print(mse_val)\n",
        "print(cos_val)"
      ],
      "metadata": {
        "colab": {
          "base_uri": "https://localhost:8080/"
        },
        "id": "kK8CWXzka_t8",
        "outputId": "e14f588e-b61c-4d80-c4b4-94a9b75ed332"
      },
      "execution_count": 22,
      "outputs": [
        {
          "output_type": "stream",
          "name": "stdout",
          "text": [
            "[-1.5  1.   1.  -1. ]\n",
            "0.013125\n",
            "0.9962335082737975\n"
          ]
        }
      ]
    }
  ]
}