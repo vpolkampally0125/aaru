{
  "nbformat": 4,
  "nbformat_minor": 0,
  "metadata": {
    "colab": {
      "provenance": [],
      "authorship_tag": "ABX9TyO+j1Qj/zYDi8GX+2BpQI0H",
      "include_colab_link": true
    },
    "kernelspec": {
      "name": "python3",
      "display_name": "Python 3"
    },
    "language_info": {
      "name": "python"
    }
  },
  "cells": [
    {
      "cell_type": "markdown",
      "metadata": {
        "id": "view-in-github",
        "colab_type": "text"
      },
      "source": [
        "<a href=\"https://colab.research.google.com/github/vpolkampally0125/aaru/blob/main/Guassian_Discriminate_Analysis_Implementation.ipynb\" target=\"_parent\"><img src=\"https://colab.research.google.com/assets/colab-badge.svg\" alt=\"Open In Colab\"/></a>"
      ]
    },
    {
      "cell_type": "code",
      "source": [
        "import matplotlib.pyplot as plt\n",
        "import numpy as np\n",
        "import util as util\n",
        "from linear_model import LinearModel"
      ],
      "metadata": {
        "id": "6fmmUGD-AlQp"
      },
      "execution_count": 8,
      "outputs": []
    },
    {
      "cell_type": "code",
      "source": [
        "ds1_training_set_path = 'data/ds1_train.csv'\n",
        "ds1_valid_set_path = 'data/ds1_valid.csv'\n",
        "ds2_training_set_path = 'data/ds2_train.csv'\n",
        "ds2_valid_set_path = 'data/ds2_valid.csv'"
      ],
      "metadata": {
        "id": "AHTme1WGBFSG"
      },
      "execution_count": 9,
      "outputs": []
    },
    {
      "cell_type": "code",
      "source": [
        "x_train, y_train = util.load_dataset(ds1_training_set_path, add_intercept=True)\n",
        "x_valid, y_valid = util.load_dataset(ds1_valid_set_path, add_intercept=True)"
      ],
      "metadata": {
        "id": "Jz1lDQ9UBH5A"
      },
      "execution_count": 11,
      "outputs": []
    },
    {
      "cell_type": "code",
      "execution_count": 12,
      "metadata": {
        "id": "QtLgxzJl_ToN"
      },
      "outputs": [],
      "source": [
        "class GDA(LinearModel):\n",
        "    \"\"\"Gaussian Discriminant Analysis.\n",
        "\n",
        "    Example usage:\n",
        "        > clf = GDA()\n",
        "        > clf.fit(x_train, y_train)\n",
        "        > clf.predict(x_eval)\n",
        "    \"\"\"\n",
        "\n",
        "    def fit(self, x, y):\n",
        "        \"\"\"Fit a GDA model to training set given by x and y.\n",
        "\n",
        "        :param x: Training example inputs. Shape (m, n).\n",
        "        :param y: Training example labels. Shape (m,).\n",
        "        \"\"\"\n",
        "\n",
        "        m, n = x.shape\n",
        "\n",
        "        phi = np.sum(y) / m\n",
        "        mu_0 = np.dot(x.T, 1 - y) / np.sum(1 - y)\n",
        "        mu_1 = np.dot(x.T, y) / np.sum(y)\n",
        "\n",
        "        # Reshape y to compute pairwise product with mu\n",
        "        y_reshaped = np.reshape(y, (m, -1))\n",
        "\n",
        "        # Matrix comprises mu_0 and mu_1 based on the value of y. Shape(m, n)\n",
        "        mu_x = y_reshaped * mu_1 + (1 - y_reshaped) * mu_0\n",
        "\n",
        "        x_centered = x - mu_x\n",
        "\n",
        "        sigma = np.dot(x_centered.T, x_centered) / m\n",
        "        sigma_inv = np.linalg.inv(sigma)\n",
        "\n",
        "        theta = np.dot(sigma_inv, mu_1 - mu_0)\n",
        "        theta_0 = 1 / 2 * mu_0 @ sigma_inv @ mu_0 - 1 / 2 * mu_1 @ sigma_inv @ mu_1 - np.log((1 - phi) / phi)\n",
        "\n",
        "        self.theta = np.insert(theta, 0, theta_0)\n",
        "    def predict(self, x):\n",
        "        \"\"\"Make a prediction given new inputs x.\n",
        "\n",
        "        :param x: Inputs of shape (m, n).\n",
        "        :return:  Outputs of shape (m,).\n",
        "        \"\"\"\n",
        "\n",
        "        # Add x_0 = 1 convention to make predictions using theta^T x >= 0\n",
        "        return util.add_intercept(x) @ self.theta >= 0"
      ]
    }
  ]
}